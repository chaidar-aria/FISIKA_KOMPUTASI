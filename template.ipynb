{
 "cells": [
  {
   "cell_type": "markdown",
   "metadata": {},
   "source": [
    "# REGRESI LINEAR\n",
    "Silakan install beberapa library python berikut ini\n",
    "1. sklearn\n",
    "2. matplotlib\n",
    "3. pandas\n",
    "4. numpy\n",
    "5. seaborn\n",
    "\n",
    "### Instalasi sklearn\n",
    "```sh\n",
    "pip install sklearn\n",
    "```\n",
    "### Instalasi matplotlib\n",
    "```sh\n",
    "pip install matplotlib\n",
    "```\n",
    "\n",
    "### Instalasi pandas\n",
    "```sh\n",
    "pip install pandas\n",
    "```\n",
    "\n",
    "### Instalasi numpy\n",
    "```sh \n",
    "pip install numpy\n",
    "```\n",
    "\n",
    "### Instalasi seaborn\n",
    "```sh\n",
    "pip install seaborn\n",
    "```\n"
   ]
  },
  {
   "cell_type": "code",
   "execution_count": null,
   "metadata": {},
   "outputs": [],
   "source": [
    "from sklearn.metrics import *\n",
    "import matplotlib.pyplot as plt\n",
    "import math\n",
    "from sklearn.linear_model import LinearRegression\n",
    "import pandas as pd\n",
    "import numpy as np\n",
    "import seaborn as sns\n",
    "%matplotlib inline\n"
   ]
  }
 ],
 "metadata": {
  "language_info": {
   "name": "python"
  },
  "orig_nbformat": 4
 },
 "nbformat": 4,
 "nbformat_minor": 2
}
