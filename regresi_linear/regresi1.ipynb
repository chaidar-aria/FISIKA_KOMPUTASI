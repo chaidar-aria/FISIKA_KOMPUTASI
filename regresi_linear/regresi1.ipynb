{
 "cells": [
  {
   "cell_type": "code",
   "execution_count": 1,
   "metadata": {},
   "outputs": [],
   "source": [
    "import numpy as np\n",
    "import pandas as pd\n",
    "from matplotlib import pyplot as plt\n",
    "from sklearn.linear_model import LinearRegression\n"
   ]
  },
  {
   "cell_type": "code",
   "execution_count": 2,
   "metadata": {},
   "outputs": [],
   "source": [
    "df = pd.DataFrame([[151, 63], [174, 81], [138, 56], [186, 91], [128, 47], [\n",
    "                  136, 57], [179, 76], [163, 72], [152, 62], [131, 48]])\n",
    "df.columns = ['x', 'y']\n"
   ]
  },
  {
   "cell_type": "code",
   "execution_count": 3,
   "metadata": {},
   "outputs": [],
   "source": [
    "x_train = df['x'].values[:, np.newaxis]\n",
    "y_train = df['y'].values\n"
   ]
  },
  {
   "cell_type": "code",
   "execution_count": 5,
   "metadata": {},
   "outputs": [
    {
     "name": "stdout",
     "output_type": "stream",
     "text": [
      "Coefficient: [0.67461045]\n",
      "Intercept: -38.45508707607701\n"
     ]
    }
   ],
   "source": [
    "lm = LinearRegression()\n",
    "lm.fit(x_train, y_train)  # fase training\n",
    "print('Coefficient: ' + str(lm.coef_))\n",
    "print('Intercept: ' + str(lm.intercept_))\n"
   ]
  },
  {
   "cell_type": "code",
   "execution_count": 6,
   "metadata": {},
   "outputs": [],
   "source": [
    "x_test = [[170], [171]]  # data yang akan diprediksi\n"
   ]
  },
  {
   "cell_type": "code",
   "execution_count": 7,
   "metadata": {},
   "outputs": [
    {
     "name": "stdout",
     "output_type": "stream",
     "text": [
      "[76.22868928 76.90329973]\n"
     ]
    }
   ],
   "source": [
    "p = lm.predict(x_test) #fase prediksi\n",
    "print(p) #hasil prediksi"
   ]
  },
  {
   "cell_type": "code",
   "execution_count": 8,
   "metadata": {},
   "outputs": [
    {
     "data": {
      "image/png": "[encoded data removed]",
      "text/plain": [
       "<Figure size 432x288 with 1 Axes>"
      ]
     },
     "metadata": {
      "needs_background": "light"
     },
     "output_type": "display_data"
    }
   ],
   "source": [
    "#prepare plot\n",
    "pb = lm.predict(x_train)\n",
    "dfc = pd.DataFrame({'x': df['x'], 'y': pb})\n",
    "plt.scatter(df['x'], df['y'])\n",
    "plt.plot(dfc['x'], dfc['y'], color='red', linewidth=1)\n",
    "plt.xlabel('Tinggi dalam cm')\n",
    "plt.ylabel('Berat dalam Kg')\n",
    "plt.show()\n"
   ]
  },
  {
   "cell_type": "code",
   "execution_count": null,
   "metadata": {},
   "outputs": [],
   "source": []
  }
 ],
 "metadata": {
  "interpreter": {
   "hash": "aecd030d4c8316a52bf122072e28f84bcc79844c2684e041fef2e3f1d9f59078"
  },
  "kernelspec": {
   "display_name": "Python 3.10.2 64-bit",
   "language": "python",
   "name": "python3"
  },
  "language_info": {
   "codemirror_mode": {
    "name": "ipython",
    "version": 3
   },
   "file_extension": ".py",
   "mimetype": "text/x-python",
   "name": "python",
   "nbconvert_exporter": "python",
   "pygments_lexer": "ipython3",
   "version": "3.10.2"
  },
  "orig_nbformat": 4
 },
 "nbformat": 4,
 "nbformat_minor": 2
}
