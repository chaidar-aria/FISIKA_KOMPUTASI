{
 "cells": [
  {
   "cell_type": "code",
   "execution_count": 5,
   "metadata": {},
   "outputs": [],
   "source": [
    "from matplotlib import *\n",
    "from numpy import *\n",
    "import matplotlib.pyplot as plt\n",
    "import numpy as np\n",
    "%matplotlib inline\n"
   ]
  },
  {
   "cell_type": "code",
   "execution_count": 2,
   "metadata": {},
   "outputs": [],
   "source": [
    "# Definisi fungsi f(x) dengan\n",
    "def f(x):\n",
    "    return -3*x**3-5*x-9\n"
   ]
  },
  {
   "cell_type": "code",
   "execution_count": 7,
   "metadata": {},
   "outputs": [
    {
     "name": "stdout",
     "output_type": "stream",
     "text": [
      "[-1.25, -1.125, -1.0625, -1.09375, -1.078125, -1.0703125, -1.06640625]\n"
     ]
    }
   ],
   "source": [
    "tol = 0.005  # Toleransi\n",
    "delta = 1000\n",
    "a = -1\n",
    "b = -1.5\n",
    "fa = f(a)\n",
    "fb = f(b)\n",
    "xd = []\n",
    "xn = b\n",
    "\n",
    "while delta > tol:\n",
    "    # Nilai tengah\n",
    "    c = (a+b)/2.0\n",
    "    fc = f(c)\n",
    "\n",
    "    # Cek jika interval mengandung solusi\n",
    "    if(fa*fc) < 0:\n",
    "        b = c\n",
    "        fb = fc\n",
    "    else:\n",
    "        a = c\n",
    "        fa = fc\n",
    "\n",
    "    xd.append(c)\n",
    "    xnp1 = c\n",
    "    delta = abs(xnp1-xn)\n",
    "\n",
    "    # Simpan untuk iterasi berikutnya\n",
    "    xn = xnp1\n",
    "print(xd)\n"
   ]
  },
  {
   "cell_type": "code",
   "execution_count": 6,
   "metadata": {},
   "outputs": [
    {
     "data": {
      "image/png": "[encoded data removed]",
      "text/plain": [
       "<Figure size 432x288 with 1 Axes>"
      ]
     },
     "metadata": {
      "needs_background": "light"
     },
     "output_type": "display_data"
    }
   ],
   "source": [
    "# Visualisasi\n",
    "n = np.arange(len(xd))\n",
    "plt.plot(n, xd, '-or')\n",
    "plt.xlabel('$n$')\n",
    "plt.ylabel('$x_n$')\n",
    "plt.show()\n"
   ]
  },
  {
   "cell_type": "code",
   "execution_count": null,
   "metadata": {},
   "outputs": [],
   "source": []
  }
 ],
 "metadata": {
  "interpreter": {
   "hash": "aecd030d4c8316a52bf122072e28f84bcc79844c2684e041fef2e3f1d9f59078"
  },
  "kernelspec": {
   "display_name": "Python 3.10.2 64-bit",
   "language": "python",
   "name": "python3"
  },
  "language_info": {
   "codemirror_mode": {
    "name": "ipython",
    "version": 3
   },
   "file_extension": ".py",
   "mimetype": "text/x-python",
   "name": "python",
   "nbconvert_exporter": "python",
   "pygments_lexer": "ipython3",
   "version": "3.10.2"
  },
  "orig_nbformat": 4
 },
 "nbformat": 4,
 "nbformat_minor": 2
}
