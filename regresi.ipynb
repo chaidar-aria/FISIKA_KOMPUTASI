{
 "cells": [
  {
   "cell_type": "markdown",
   "metadata": {},
   "source": [
    "# Regresi Linear\n",
    "\n",
    "Regresi Linier atau Linear Regression adalah suatu model statistik yang umum dan paling sederhana yang digunakan untuk Machine Learning untuk melakukan prediksi dengan cara supervised learning.\n",
    "Regresi Linier hanya bisa digunakan untuk data yang bersifat interval dan ratio yang biasanya bersifat diskrit dan kontinu, dan merupakan analisis bivariate dan multivariate, simplenya kita bahas bivariate terlebih dahulu, diharapkan juga sudah membaca tentang analisa bivariate terlebih dahulu dimana dijelaskan tentang korelasi antara 2 variabel yang sudah dibahas di Statistika Dasar (Lanjutan).\n",
    "Regresi Linier melibatkan 2 variabel dimana salah satunya adalah variabel independen (x) dan satu lagi adalah variabel dependen (y).\n",
    "Independen berarti variabel ini sebagai variabel utama yang mungkin akan mempengaruhi nilai variabel kedua (dependen).\n",
    "Dependen berarti nilai variabel ini akan tergantung dari nilai variabel independennya, jika korelasi tinggi maka dependensi juga tinggi.\n",
    "Mari kita mulai dengan contoh paling sederhana :\n",
    "Terdapat data sample yang didapat dari 10 orang sebagai berikut :\n",
    "```sh\n",
    "Data Tinggi Badan(cm) : 151,174,138,186,128,136,179,163,152,131\n",
    "Data Berat Badan (Kg) : 63, 81, 56, 91, 47, 57, 76, 72, 62, 48\n",
    "```\n",
    "Disini tinggi badan merupakan variabel independen (x), dan berat badan merupakan variabel dependen (y).\n",
    "Data x dan y ini dapat kita sebarkan ke dalam sumbu x dan y seperti berikut :\n",
    "\n",
    "![Contoh Regresi Linear](https://miro.medium.com/max/1400/0*sqlVaod2URmmy2oG.png)\n",
    "\n",
    "Jika memang x dan y memiliki korelasi tinggi maka titik-titik akan cenderung menurun atau naik, dengan data diatas seharusnya naik. Regresi Linear adalah proses mencari garis linear yang menujukkan korelasi antara kedua variabel tersebut, garis linear itu akan didapat dengan sebuah persamaan :\n",
    "```sh\n",
    "y = ax + b atau y = w1x + w0\n",
    "dimana \n",
    "a atau w1 adalah slope / gradient / coefficient\n",
    "b atau w0 adalah intercept / bias\n",
    "```\n",
    "\n",
    "Sebelum menggunakan Regresi Linier, hitung terlebih dahulu korelasinya menggunakan rumus Pearson Correlation (r), jika belum paham ini, disarankan membaca tentang Statistika Dasar Lanjutan untuk analisis bivariate :\n",
    "\n",
    "Correlation Coefficient $$  r = \\frac{\\sum (x_i - \\bar{x})(y_i-\\bar{y})}{\\sqrt{\\sum(x_i - \\bar{x})^2(y_i-\\bar{y})^2}} $$\n",
    "\n",
    "```sh\n",
    "mean x = (151+174+138+186+128+136+179+163+152+131)/10 = 153.8\n",
    "mean y = (63+81+56+91+47+57+76+72+62+48)/10 = 65.3\n",
    "r = (((151-153.8)*(63-65.3)) + ... + ((131-153.8)*(48-65.3))) /   √(((151-153.3)² + ... + (131-153.8)²)*((63-65.3)² + ... + (48-65,3)²))\n",
    "  = 0.9771295961897941\n",
    "Catatan : korelasi 0.97 adalah nilai yang sangat tinggi, artinya nilai y benar-benar sangat dipengaruhi oleh nilai x, karena korelasi tinggi maka algoritma Regresi Linier ini cocok digunakan untuk data tersebut.\n",
    "```\n",
    "\n",
    "Setelah ditemukan korelasi tinggi selanjutnya adalah mencari persamaan garis dengan mencari terlebih dahulu nilai a dan b, dengan menggunakan rumus Least Square, rumus yang digunakan adalah sebagai berikut :\n",
    "\n",
    "$$Slope \\;\\;\\;\\;\\; a = \\frac{\\sum(x_i - \\bar{x})(y_i-\\bar{y})}{\\sum(x_i-\\bar{x})^2}$$\n",
    "$$intercept \\;\\;\\;\\; = b=\\bar{y}-a\\bar{x}$$\n",
    "Slope adalah tingkat kemiringan garis, intercept adalah jarak titik y pada garis dari titik 0\n",
    "```sh\n",
    "mean x = (151+174+138+186+128+136+179+163+152+131)/10 = 153.8\n",
    "mean y = (63+81+56+91+47+57+76+72+62+48)/10 = 65.3\n",
    "a = (((151-153.8)*(63-65.3)) + ... + ((131-153.8)*(48-65.3))) / ((151-153.3) + ... + (131-153.8))²\n",
    "  = 0.67461045\n",
    "b = 65.3 - 0.67461045 * 153.8\n",
    "  = -38.45508707607701\n",
    "maka persamaan garis : \n",
    "y = 0.67461045 x - 38.45508707607701\n",
    "Catatan :\n",
    "Jadi persamaan garis diatas dapat digunakan untuk melakukan prediksi apabila kita memiliki data tinggi badan yang baru, berat badan dapat diperkirakan dengan rumus tersebut, masukkan nilai tinggi baru ke x, maka perkiraan nilai y (berat badan) akan didapat.\n",
    "```\n",
    "## Tentang algoritma Regresi Linier\n",
    "Digunakan untuk Prediksi dengan mencari pola garis terbaik antara variable independent dan dependen\n",
    "### Pros:\n",
    "- Mudah diimplementasikan\n",
    "- Digunakan untuk memprediksi nilai numerik/ continous /data jenis interval dan ratio\n",
    "### Cons :\n",
    "- Cenderung mudah Overfitting\n",
    "- Tidak dapat digunakan bila relasi antara variabel independen dan dependen tidak linier atau korelasi variabel rendah\n",
    "\n",
    "\n",
    "## Pengukuran Akurasi\n",
    "Model tipe Regresi Linier tingkat akurasinya dapat dihitung dengan beberapa metode, yang paling umum adalah :\n",
    "- R-squared (r²) atau biasa disebut juga Coefficient of Determination, yaitu nilai dari r dikuaratkan, nilai r sudah dibahas diatas.\n",
    "- Adjusted R-squared (r²) biasanya digunakan apabila sample kecil dari populasi yang sangat besar.\n",
    "\n",
    "$$R_{adj}^2 = 1-\\left [ \\frac{(1-R^2)(n-1)}{n-k-1} \\right ]$$\n",
    "\n",
    "- Multiple R-squared (r²) biasanya digunakan untuk multiple correlation multivariate.\n",
    "\n",
    "$$R=\\sqrt{\\frac{r_{yx1}^2+r_{yx2}^2+-2r_{yx1}\\cdot r_{yx2}\\cdot r_{x1x2}}{1-r^2_{x1x2}}}$$\n",
    "\n",
    "## Pengukur Error\n",
    "Semakin tinggi nilai error, semakin besar errornya.\n",
    "- Redisual (y actual — y predicted)\n",
    "- Standard Error (SE)\n",
    "- Root Mean Square Error (RMSE)\n",
    "- Mean Absolute Error (MAE), absolute berarti nilai negatif dipositifkan\n",
    "- Root Relative Squared Error (RRSE)\n",
    "- Relative Absolute Error (RAE), absolute berarti nilai negatif dipositifkan\n",
    "\n",
    "$$SE_{\\bar{x}} = \\frac{s}{\\sqrt{n}}$$\n",
    "$$RMSE = \\sqrt{\\sum \\frac{(y_{pred}-y_{ref})^2}{N}}$$\n",
    "Mean Absolute Error (MAE)\n",
    "$$MAE = \\frac{1}{n}\\sum\\left | y_{predicted} - y_{actual} \\right |$$\n",
    "Root Relative Squared Error (RRSE)\n",
    "$$RRSE = \\sqrt{\\frac{\\sum\\left ( y_{predicted} - y_{actual} \\right )^2}{\\sum\\left ( \\bar{y}_{predicted} - \\bar{y}_{actual} \\right )^2}}$$\n",
    "Relative Absolute Error (RAE)\n",
    "$$RAE = \\frac{\\sum\\left | y_{predicted} - y_{actual} \\right |}{\\sum\\left | \\bar{y}_{predicted} - \\bar{y}_{actual} \\right |}$$\n"
   ]
  },
  {
   "cell_type": "markdown",
   "metadata": {},
   "source": [
    "### Contoh Kasus\n",
    "\n",
    "A student hangs masses on a spring and measures the spring’s extension as a function of the applied force in order to find the spring constant k. Her measurements are : \n",
    "\n",
    "Mass (kg) 200 300 400 500 600 700 800 900\n",
    "\n",
    "Extension (cm) 5.1 5.5 5.9 6.8 7.4 7.5 8.6 9.4 \n",
    "\n",
    ". For a perfect spring, the extension ΔL of the spring will be related to the applied force by the relation k. ΔL = F, where F = mg and Δ L = L – L0, and L is 34 the unstretched length of the spring. Use these data and the method of least squares to fing the spring constant k, and the unstretched length of the spring L0\n"
   ]
  },
  {
   "cell_type": "code",
   "execution_count": 37,
   "metadata": {},
   "outputs": [],
   "source": [
    "import numpy as np\n",
    "import pandas as pd\n",
    "from matplotlib import pyplot as plt\n",
    "from sklearn.linear_model import LinearRegression"
   ]
  },
  {
   "cell_type": "code",
   "execution_count": 38,
   "metadata": {},
   "outputs": [],
   "source": [
    "df = pd.DataFrame([[200, 5.1], [300, 5.5], [400, 5.9], [500, 6.8], [600, 7.4], [\n",
    "                  700, 7.5], [800, 8.6], [900, 9.4]])\n",
    "df.columns = ['x', 'y']\n"
   ]
  },
  {
   "cell_type": "code",
   "execution_count": 39,
   "metadata": {},
   "outputs": [],
   "source": [
    "x_train = df['x'].values[:, np.newaxis]\n",
    "y_train = df['y'].values\n"
   ]
  },
  {
   "cell_type": "code",
   "execution_count": 40,
   "metadata": {},
   "outputs": [
    {
     "name": "stdout",
     "output_type": "stream",
     "text": [
      "Coefficient: [0.00607143]\n",
      "Intercept: 3.685714285714285\n"
     ]
    }
   ],
   "source": [
    "lm = LinearRegression()\n",
    "lm.fit(x_train, y_train)  # fase training\n",
    "print('Coefficient: ' + str(lm.coef_))\n",
    "print('Intercept: ' + str(lm.intercept_))\n"
   ]
  },
  {
   "cell_type": "code",
   "execution_count": 41,
   "metadata": {},
   "outputs": [],
   "source": [
    "x_test = [[170], [171]]  # data yang akan diprediksi\n"
   ]
  },
  {
   "cell_type": "code",
   "execution_count": 42,
   "metadata": {},
   "outputs": [
    {
     "name": "stdout",
     "output_type": "stream",
     "text": [
      "[4.71785714 4.72392857]\n"
     ]
    }
   ],
   "source": [
    "p = lm.predict(x_test) #fase prediksi\n",
    "print(p) #hasil prediksi"
   ]
  },
  {
   "cell_type": "code",
   "execution_count": 43,
   "metadata": {},
   "outputs": [
    {
     "data": {
      "image/png": "[encoded data removed]",
      "text/plain": [
       "<Figure size 432x288 with 1 Axes>"
      ]
     },
     "metadata": {
      "needs_background": "light"
     },
     "output_type": "display_data"
    }
   ],
   "source": [
    "#prepare plot\n",
    "pb = lm.predict(x_train)\n",
    "dfc = pd.DataFrame({'x': df['x'], 'y': pb})\n",
    "plt.scatter(df['x'], df['y'])\n",
    "plt.plot(dfc['x'], dfc['y'], color='red', linewidth=1)\n",
    "plt.xlabel('Mass (Kg)')\n",
    "plt.ylabel('Extension (cm)')\n",
    "plt.show()\n"
   ]
  }
 ],
 "metadata": {
  "interpreter": {
   "hash": "aecd030d4c8316a52bf122072e28f84bcc79844c2684e041fef2e3f1d9f59078"
  },
  "kernelspec": {
   "display_name": "Python 3.10.2 64-bit",
   "language": "python",
   "name": "python3"
  },
  "language_info": {
   "codemirror_mode": {
    "name": "ipython",
    "version": 3
   },
   "file_extension": ".py",
   "mimetype": "text/x-python",
   "name": "python",
   "nbconvert_exporter": "python",
   "pygments_lexer": "ipython3",
   "version": "3.10.2"
  },
  "orig_nbformat": 4
 },
 "nbformat": 4,
 "nbformat_minor": 2
}
