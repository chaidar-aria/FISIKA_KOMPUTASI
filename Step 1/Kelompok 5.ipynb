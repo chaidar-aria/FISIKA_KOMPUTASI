{
 "cells": [
  {
   "cell_type": "code",
   "execution_count": null,
   "metadata": {},
   "outputs": [],
   "source": [
    "import numpy as np\n",
    "from numpy import*\n",
    "P = np.array ([1,2,3,4,5,6,7]) #Nilai hambatan jenis kawat\n",
    "L = np.array ([0.1, 0.1, 0.1, 0.1, 0.1, 0.1, 0.1]) #Panjang kawat\n",
    "A = np.array ([75*10**(-5), 75*10**(-5), 75*10**(-5), 75*10**(-5), 75*10**(-5), 75*10**(-5), 75*10**(-5) ]) #Luas penampang\n",
    "print (P) \n",
    "print (L)\n",
    "print (A)"
   ]
  },
  {
   "cell_type": "code",
   "execution_count": null,
   "metadata": {},
   "outputs": [],
   "source": [
    "import numpy as np\n",
    "from numpy import*\n",
    "\n",
    "P = np.array ([1,2,3,4,5,6,7]) \n",
    "L = np.array ([0.1, 0.1, 0.1, 0.1, 0.1, 0.1, 0.1])\n",
    "A = np.array ([75*10**(-5), 75*10**(-5), 75*10**(-5), 75*10**(-5), 75*10**(-5), 75*10**(-5), 75*10**(-5) ])\n",
    "PL = (P*L) \n",
    "R = (PL/A)\n",
    "print (R)"
   ]
  },
  {
   "cell_type": "code",
   "execution_count": null,
   "metadata": {},
   "outputs": [],
   "source": [
    "import matplotlib.pyplot as plt\n",
    "#Bagaimana pengaruh hambatan jenis kawat terhadap hambatan pada rangkaian berdasarkan percobaan \n",
    "\n",
    "Hambatanjeniskawat = [1, 2, 3, 4, 5, 6, 7]\n",
    "Hambatanpadarangkaian = [133, 267, 400, 533, 667, 800, 933]\n",
    "\n",
    "#Membuat grafik pengaruh hambatan jenis kawat terhadap hambatan pada rangkaian \n",
    "x = range (len(Hambatanjeniskawat))\n",
    "plt.plot(Hambatanjeniskawat, Hambatanpadarangkaian)\n",
    "plt.xticks(x, Hambatanjeniskawat)\n",
    "\n",
    "#Sumbu X dan Y\n",
    "plt.xlabel('Hambatan jenis kawat', size=12)\n",
    "plt.ylabel('Hambatan pada rangkaian', size=12)\n",
    "plt.title('Pengaruh hambatan jenis kawat terhadap hambatan pada rangkaian', size=14)\n",
    "plt.show()\n",
    "\n",
    "#Berdasarkan grafik tersebut dapat disimpulkan bahwa hambatan jenis kawat berbanding lurus dengan hambatan pada rangkaian"
   ]
  }
 ],
 "metadata": {
  "interpreter": {
   "hash": "94dfd0829861ea723591b3001b7b8d6efd29c21741fffd6b6a162c01382c010b"
  },
  "kernelspec": {
   "display_name": "Python 3.10.2 64-bit",
   "language": "python",
   "name": "python3"
  },
  "language_info": {
   "codemirror_mode": {
    "name": "ipython",
    "version": 3
   },
   "file_extension": ".py",
   "mimetype": "text/x-python",
   "name": "python",
   "nbconvert_exporter": "python",
   "pygments_lexer": "ipython3",
   "version": "3.10.2"
  },
  "orig_nbformat": 4
 },
 "nbformat": 4,
 "nbformat_minor": 2
}
