{
 "cells": [
  {
   "cell_type": "code",
   "execution_count": 5,
   "metadata": {},
   "outputs": [
    {
     "name": "stdout",
     "output_type": "stream",
     "text": [
      "(1.1178179380783253, 7.866317250224184e-09)\n"
     ]
    }
   ],
   "source": [
    "#Penggunaan library scipy pada penyelesaian soal integral\n",
    "\n",
    "import scipy as sp\n",
    "\n",
    "from scipy import integrate\n",
    "from scipy import special\n",
    "\n",
    "r = integrate.quad(lambda x:special.jv(2.5,x),0,4.5)\n",
    "print(r)"
   ]
  }
 ],
 "metadata": {
  "interpreter": {
   "hash": "94dfd0829861ea723591b3001b7b8d6efd29c21741fffd6b6a162c01382c010b"
  },
  "kernelspec": {
   "display_name": "Python 3.10.2 64-bit",
   "language": "python",
   "name": "python3"
  },
  "language_info": {
   "codemirror_mode": {
    "name": "ipython",
    "version": 3
   },
   "file_extension": ".py",
   "mimetype": "text/x-python",
   "name": "python",
   "nbconvert_exporter": "python",
   "pygments_lexer": "ipython3",
   "version": "3.10.2"
  },
  "orig_nbformat": 4
 },
 "nbformat": 4,
 "nbformat_minor": 2
}
