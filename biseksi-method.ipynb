{
 "cells": [
  {
   "cell_type": "markdown",
   "metadata": {},
   "source": [
    "# Metode Biseksi\n",
    "\n",
    "Sebuah titik berada pada interval $x\\in[a,b]$ merupakan solusi $f(x)=0$ dan syarat memang ada 1 akar"
   ]
  },
  {
   "cell_type": "code",
   "execution_count": 54,
   "metadata": {},
   "outputs": [],
   "source": [
    "%matplotlib inline\n",
    "import numpy as np\n",
    "import matplotlib.pyplot as plt\n",
    "from numpy import *\n",
    "from matplotlib import *"
   ]
  },
  {
   "cell_type": "code",
   "execution_count": 48,
   "metadata": {},
   "outputs": [],
   "source": [
    "# Definisi fungsi f(x) dengan\n",
    "def f(x):\n",
    "    return -3*x**3-5*x-9\n",
    "\n",
    "# Definisi fungsi g(x) dengan\n",
    "# def g(x):\n",
    "#     return -3*x**3-5*x-9\n"
   ]
  },
  {
   "cell_type": "code",
   "execution_count": 53,
   "metadata": {},
   "outputs": [
    {
     "name": "stdout",
     "output_type": "stream",
     "text": [
      "[-1.25, -1.125, -1.0625, -1.09375, -1.078125, -1.0703125, -1.06640625]\n"
     ]
    }
   ],
   "source": [
    "tol = 0.005 # Toleransi\n",
    "# tol = 0.005\n",
    "delta = 1000 #\n",
    "a = -1\n",
    "b = -1.5\n",
    "fa = f(a)\n",
    "fb = f(b)\n",
    "xd = []\n",
    "xn = b\n",
    "\n",
    "while delta>tol:\n",
    "    # Nilai tengah\n",
    "    c = (a+b)/2.0\n",
    "    fc=f(c)\n",
    "    \n",
    "    # Cek jika interval mengandung solusi\n",
    "    if(fa*fc) <0:\n",
    "        b = c\n",
    "        fb = fc\n",
    "    else:\n",
    "        a=c\n",
    "        fa = fc\n",
    "    \n",
    "    xd.append(c)\n",
    "    xnp1 = c\n",
    "    delta = abs(xnp1-xn)\n",
    "    \n",
    "    # Simpan untuk iterasi berikutnya\n",
    "    xn = xnp1\n",
    "print(xd)"
   ]
  },
  {
   "cell_type": "code",
   "execution_count": 42,
   "metadata": {},
   "outputs": [
    {
     "data": {
      "image/png": "[encoded data removed]",
      "text/plain": [
       "<Figure size 432x288 with 1 Axes>"
      ]
     },
     "metadata": {
      "needs_background": "light"
     },
     "output_type": "display_data"
    }
   ],
   "source": [
    "# Visualisasi\n",
    "n = np.arange(len(xd))\n",
    "plt.plot(n,xd,'-or')\n",
    "plt.xlabel('$n$')\n",
    "plt.ylabel('$x_n$')\n",
    "plt.show()"
   ]
  },
  {
   "cell_type": "code",
   "execution_count": 43,
   "metadata": {},
   "outputs": [],
   "source": [
    "# Definisi fungsi f(x) dengan\n",
    "def f(x):\n",
    "    return np.exp(-x)-x\n",
    "\n",
    "# Definisi fungsi g(x) dengan\n",
    "def g(x):\n",
    "    return np.exp(-x)\n"
   ]
  },
  {
   "cell_type": "code",
   "execution_count": 45,
   "metadata": {},
   "outputs": [
    {
     "name": "stdout",
     "output_type": "stream",
     "text": [
      "[0.5, 0.75, 0.625, 0.5625, 0.59375, 0.578125, 0.5703125, 0.56640625, 0.568359375, 0.5673828125, 0.56689453125, 0.567138671875, 0.5672607421875, 0.56719970703125, 0.567169189453125, 0.5671539306640625, 0.5671463012695312, 0.5671424865722656, 0.5671443939208984, 0.567143440246582, 0.5671429634094238, 0.5671432018280029, 0.5671433210372925, 0.5671432614326477, 0.5671432912349701, 0.5671432763338089, 0.5671432837843895, 0.5671432875096798, 0.5671432893723249, 0.5671432903036475, 0.5671432907693088, 0.5671432905364782, 0.5671432904200628, 0.5671432903618552]\n"
     ]
    }
   ],
   "source": [
    "tol = 1.0E-10  # Toleransi\n",
    "# tol = 0.005\n",
    "delta = 1000\n",
    "a = 0.0\n",
    "b = 1.0\n",
    "fa = f(a)\n",
    "fb = f(b)\n",
    "xd = []\n",
    "xn = b\n",
    "\n",
    "while delta > tol:\n",
    "    # Nilai tengah\n",
    "    c = (a+b)/2.0\n",
    "    fc = f(c)\n",
    "\n",
    "    # Cek jika interval mengandung solusi\n",
    "    if(fa*fc) < 0:\n",
    "        b = c\n",
    "        fb = fc\n",
    "    else:\n",
    "        a = c\n",
    "        fa = fc\n",
    "\n",
    "    xd.append(c)\n",
    "    xnp1 = c\n",
    "    delta = abs(xnp1-xn)\n",
    "\n",
    "    # Simpan untuk iterasi berikutnya\n",
    "    xn = xnp1\n",
    "print(xd)\n"
   ]
  },
  {
   "cell_type": "code",
   "execution_count": 46,
   "metadata": {},
   "outputs": [
    {
     "data": {
      "image/png": "[encoded data removed]",
      "text/plain": [
       "<Figure size 432x288 with 1 Axes>"
      ]
     },
     "metadata": {
      "needs_background": "light"
     },
     "output_type": "display_data"
    }
   ],
   "source": [
    "# Visualisasi\n",
    "n = np.arange(len(xd))\n",
    "plt.plot(n, xd, '-or')\n",
    "plt.xlabel('$n$')\n",
    "plt.ylabel('$x_n$')\n",
    "plt.show()\n"
   ]
  },
  {
   "cell_type": "code",
   "execution_count": null,
   "metadata": {},
   "outputs": [],
   "source": []
  }
 ],
 "metadata": {
  "interpreter": {
   "hash": "aecd030d4c8316a52bf122072e28f84bcc79844c2684e041fef2e3f1d9f59078"
  },
  "kernelspec": {
   "display_name": "Python 3.10.2 64-bit",
   "language": "python",
   "name": "python3"
  },
  "language_info": {
   "codemirror_mode": {
    "name": "ipython",
    "version": 3
   },
   "file_extension": ".py",
   "mimetype": "text/x-python",
   "name": "python",
   "nbconvert_exporter": "python",
   "pygments_lexer": "ipython3",
   "version": "3.10.2"
  },
  "orig_nbformat": 4
 },
 "nbformat": 4,
 "nbformat_minor": 2
}
