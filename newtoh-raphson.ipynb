{
 "cells": [
  {
   "cell_type": "markdown",
   "metadata": {},
   "source": [
    "# METODE NEWTON-RAPHSON"
   ]
  },
  {
   "cell_type": "markdown",
   "metadata": {},
   "source": [
    "Iterasi metode titik tetap maupun metode biseksi memiliki kelemahan yaitu agak lambat mencapai titik solusi. Untuk mempercepat laju konvergen dengan cara menambahkan informasi tentang fungsi yaitu dengan menggunakan turunan fungsi tersebut\n",
    "\n",
    "![Ploting Newton-Raphson](https://i.ibb.co/zNQfHtN/Whats-App-Image-2022-03-26-at-19-10-12.jpg \"Ploting Newton-Raphson\") Gambar ploting newton-raphson\n",
    "\n",
    "Jika kita mulai pendekatan akar pada posisi $x_0$. kita dapat membuat pendekatan berikutnya dengan menggunakan garis singgung pada posisi $x_0$. Jadi kurva fungsi didekati dengan sebuah garis singgung. Jadi pendekaran selanjutnya adalah titik potong garis singgung tersebut dengan sumbu $x$. Garis singgung pada posisi $x_0$ diberikan oleh\n",
    "\n",
    "$$y = f(x_0)+f'(x_0)(x-x_0)$$\n",
    "\n",
    "Titik potong garis ini dengan sumbu $x$ diperoleh dengan menyelesaikan $f(x_0)+f'(x_0)(x-x_0)=0$ dan diperoleh\n",
    "\n",
    "$$x_1=x_0-\\frac{f(x_0)}{f'(x_0)}$$\n",
    "\n",
    "selanjutnya proses ini dapat diteruskan sehingga mendapatkan nilai yang konvergen. Secara umum rumus iterasi Newton-Raphson adalah\n",
    "\n",
    "$$x_{n+1}=x_n - \\frac{f(x_n)}{f'(x_n)}$$\n",
    "\n",
    "Sebagai contoh, dengan menggunakan contoh sebelumnya, $f(x) = exp(-x)-x,$ dengan turunan $f'(x) = -exp(x)-1$\n",
    "\n",
    "Jika kita gunakan nilai awal $x_0 = 0.5$, pendekatan pertama yaitu\n",
    "\n",
    "\\begin{align*}\n",
    "x_1&=x_0 - \\frac{exp(-x_0)-x_0}{-exp(-x_0)-1}\\\\\n",
    "&= 0.5 - \\frac{0.10653066}{-0.10653066}\\\\\n",
    "&=0.566311003\n",
    "\\end{align*}\n",
    "\n",
    "Dapat dilanjutkan untuk mendapatkan $x_2$ yaitu\n",
    "\n",
    "\\begin{align*}\n",
    "x_1&=x_0 - \\frac{exp(-x_0)-x_0}{-exp(-x_0)-1}\\\\\n",
    "&= 0.566311003 - \\frac{0.10653066}{-1.567615513}\\\\\n",
    "&=0.567143165\n",
    "\\end{align*}\n",
    "\n",
    "Beberapa perhitungan selanjutnya diberikan pada tabel dibawah\n",
    "\n",
    "Tabel Hasil iterasi metode Newton-Raphson untuk persamaan $f(x)=exp(-x)-x=0$\n",
    "\n",
    "| n      | $x_n$ | $f(x_n)$ | $f'(x_n)$ |\n",
    "| ----------- | ----------- | ----------- | ----------- |\n",
    "| 0      | 0.5       |0.10653066 |-0.10653066|\n",
    "| 1   | 0.566311003       |0.00130451|-1.567615513|\n",
    "|2|0.567143165|1.9648E-07|-1.567143362|\n",
    "|3|0.56714329|4.44089E-15|-1.56714329|\n",
    "|4|0.56714329|0|-1.56714329|\n",
    "\n",
    "Dapat disimpulkan bahwa dengan metode Newton-Raphson. dengan beberapa iterasi sudah mendapatkan nilai konvergen. Laju konvergen metode Newton-Raphson jauh lebih cepat dibandingkan metode titik tetap maupun metode biseksi.\n",
    "\n",
    "Walaupun demikian, kita harus hari-hari menggunakan metode Newton-Raphson terutama pada kasus tertentu yang memiliki daerah dengan turunan yang tidak monoton. "
   ]
  },
  {
   "cell_type": "markdown",
   "metadata": {},
   "source": [
    "## Penggunaan Python Metode Newton-Raphson\n",
    "\n",
    "Rumus iterasi untuk metode Newton-Raphson adalah\n",
    "\n",
    "$$x_{n+1}=x_n-\\frac{f(x_n)}{f'(x_n)}$$"
   ]
  },
  {
   "cell_type": "code",
   "execution_count": 5,
   "metadata": {},
   "outputs": [],
   "source": [
    "import numpy as np\n",
    "import matplotlib.pyplot as plt\n",
    "%matplotlib inline\n",
    "from numpy import *\n",
    "from matplotlib import *"
   ]
  },
  {
   "cell_type": "code",
   "execution_count": 7,
   "metadata": {},
   "outputs": [],
   "source": [
    "def f(x):\n",
    "    return np.exp(-x)-x\n",
    "\n",
    "def df(x):\n",
    "    return -np.exp(-x)-1"
   ]
  },
  {
   "cell_type": "code",
   "execution_count": 8,
   "metadata": {},
   "outputs": [
    {
     "name": "stdout",
     "output_type": "stream",
     "text": [
      "[1.0, 0.5378828427399902, 0.5669869914054133, 0.567143285989123, 0.5671432904097838]\n"
     ]
    }
   ],
   "source": [
    "tot = 1.0E-10 #toleransi\n",
    "delta = 1000 #\n",
    "xn = 1.0\n",
    "xd = []\n",
    "while delta > tot:\n",
    "    xd.append(xn)\n",
    "    xnp1 = xn-f(xn)/df(xn)\n",
    "    delta = abs(xnp1-xn)\n",
    "    # simpan untuk iterasi berikutnya\n",
    "    xn = xnp1\n",
    "\n",
    "print(xd)"
   ]
  },
  {
   "cell_type": "code",
   "execution_count": 9,
   "metadata": {},
   "outputs": [
    {
     "data": {
      "image/png": "[encoded data removed]",
      "text/plain": [
       "<Figure size 432x288 with 1 Axes>"
      ]
     },
     "metadata": {
      "needs_background": "light"
     },
     "output_type": "display_data"
    }
   ],
   "source": [
    "# visualisasi\n",
    "n = np.arange(len(xd))\n",
    "plt.plot(n, xd, '-or')\n",
    "plt.xlabel('$n$')\n",
    "plt.ylabel('$x_n$')\n",
    "plt.show()"
   ]
  },
  {
   "cell_type": "code",
   "execution_count": null,
   "metadata": {},
   "outputs": [],
   "source": []
  }
 ],
 "metadata": {
  "interpreter": {
   "hash": "aecd030d4c8316a52bf122072e28f84bcc79844c2684e041fef2e3f1d9f59078"
  },
  "kernelspec": {
   "display_name": "Python 3.10.2 64-bit",
   "language": "python",
   "name": "python3"
  },
  "language_info": {
   "codemirror_mode": {
    "name": "ipython",
    "version": 3
   },
   "file_extension": ".py",
   "mimetype": "text/x-python",
   "name": "python",
   "nbconvert_exporter": "python",
   "pygments_lexer": "ipython3",
   "version": "3.10.2"
  },
  "orig_nbformat": 4
 },
 "nbformat": 4,
 "nbformat_minor": 2
}
